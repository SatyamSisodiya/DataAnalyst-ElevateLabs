{
 "cells": [
  {
   "cell_type": "markdown",
   "id": "a3efe993",
   "metadata": {},
   "source": [
    "# SQLite Database Analysis and Visualization\n",
    "\n",
    "This notebook demonstrates:\n",
    "1. Creating and populating a SQLite database\n",
    "2. Running SQL queries\n",
    "3. Loading data into pandas\n",
    "4. Visualizing results with matplotlib"
   ]
  },
  {
   "cell_type": "code",
   "execution_count": 1,
   "id": "a0fa1720",
   "metadata": {},
   "outputs": [],
   "source": [
    "import sqlite3\n",
    "import pandas as pd\n",
    "import matplotlib.pyplot as plt\n",
    "import numpy as np\n",
    "from datetime import datetime, timedelta"
   ]
  },
  {
   "cell_type": "markdown",
   "id": "5d682844",
   "metadata": {},
   "source": [
    "## Create and Populate Database\n",
    "\n",
    "We'll create a sales database with 40 rows and multiple columns including:\n",
    "- product_id\n",
    "- product_name\n",
    "- category\n",
    "- quantity\n",
    "- price\n",
    "- sale_date\n",
    "- customer_region"
   ]
  },
  {
   "cell_type": "code",
   "execution_count": 2,
   "id": "b5f98ade",
   "metadata": {},
   "outputs": [
    {
     "name": "stdout",
     "output_type": "stream",
     "text": [
      "Database created and populated with 40 rows\n"
     ]
    }
   ],
   "source": [
    "# Create database connection\n",
    "conn = sqlite3.connect('sales_data.db')\n",
    "cursor = conn.cursor()\n",
    "\n",
    "# Create sales table\n",
    "cursor.execute('''\n",
    "CREATE TABLE IF NOT EXISTS sales (\n",
    "    product_id INTEGER,\n",
    "    product_name TEXT,\n",
    "    category TEXT,\n",
    "    quantity INTEGER,\n",
    "    price REAL,\n",
    "    sale_date DATE,\n",
    "    customer_region TEXT\n",
    ")''')\n",
    "\n",
    "# Sample data\n",
    "products = ['Laptop', 'Smartphone', 'Tablet', 'Headphones', 'Monitor']\n",
    "categories = ['Electronics', 'Mobile', 'Electronics', 'Accessories', 'Electronics']\n",
    "regions = ['North', 'South', 'East', 'West', 'Central']\n",
    "\n",
    "# Generate 40 random sales records\n",
    "base_date = datetime(2025, 1, 1)\n",
    "sales_data = []\n",
    "\n",
    "for i in range(40):\n",
    "    product_idx = i % len(products)\n",
    "    sale_date = base_date + timedelta(days=i)\n",
    "    sales_data.append((\n",
    "        i + 1,  # product_id\n",
    "        products[product_idx],  # product_name\n",
    "        categories[product_idx],  # category\n",
    "        np.random.randint(1, 10),  # quantity\n",
    "        np.random.uniform(100, 1000),  # price\n",
    "        sale_date.strftime('%Y-%m-%d'),  # sale_date\n",
    "        np.random.choice(regions)  # customer_region\n",
    "    ))\n",
    "\n",
    "# Insert data\n",
    "cursor.executemany('INSERT INTO sales VALUES (?,?,?,?,?,?,?)', sales_data)\n",
    "conn.commit()\n",
    "\n",
    "print('Database created and populated with 40 rows')"
   ]
  },
  {
   "cell_type": "markdown",
   "id": "d87903eb",
   "metadata": {},
   "source": [
    "## Query and Analyze Sales Data\n",
    "\n",
    "Let's analyze the sales data by product, calculating total quantity and revenue"
   ]
  },
  {
   "cell_type": "code",
   "execution_count": 3,
   "id": "55f5820d",
   "metadata": {},
   "outputs": [
    {
     "name": "stdout",
     "output_type": "stream",
     "text": [
      "Sales Analysis Results:\n",
      "\n",
      "       product  total_qty   revenue\n",
      "0      Tablet         56  34552.18\n",
      "1      Laptop         41  21784.29\n",
      "2  Headphones         41  21160.43\n",
      "3     Monitor         44  20594.30\n",
      "4  Smartphone         27  13581.55\n"
     ]
    }
   ],
   "source": [
    "# Create and execute query\n",
    "query = \"\"\"\n",
    "SELECT \n",
    "    product_name as product,\n",
    "    SUM(quantity) AS total_qty,\n",
    "    ROUND(SUM(quantity * price), 2) AS revenue\n",
    "FROM sales\n",
    "GROUP BY product_name\n",
    "ORDER BY revenue DESC\n",
    "\"\"\"\n",
    "\n",
    "# Load into pandas\n",
    "df = pd.read_sql_query(query, conn)\n",
    "\n",
    "# Display results\n",
    "print(\"Sales Analysis Results:\")\n",
    "print(\"\\n\", df)"
   ]
  },
  {
   "cell_type": "markdown",
   "id": "6b64cf19",
   "metadata": {},
   "source": [
    "## Visualize Results\n",
    "\n",
    "Create a bar chart showing revenue by product"
   ]
  },
  {
   "cell_type": "code",
   "execution_count": 8,
   "id": "37aafb31",
   "metadata": {},
   "outputs": [
    {
     "data": {
      "text/plain": [
       "<Figure size 1200x600 with 0 Axes>"
      ]
     },
     "metadata": {},
     "output_type": "display_data"
    },
    {
     "data": {
      "image/png": "[encoded data removed]",
      "text/plain": [
       "<Figure size 640x480 with 1 Axes>"
      ]
     },
     "metadata": {},
     "output_type": "display_data"
    }
   ],
   "source": [
    "# Create bar plot\n",
    "plt.figure(figsize=(12, 6))\n",
    "ax = df.plot(kind='bar', x='product', y='revenue', color='darkblue', legend=False)\n",
    "\n",
    "# Customize the plot\n",
    "plt.title('Revenue by Product')\n",
    "plt.xlabel('Product')\n",
    "plt.ylabel('Revenue ($)')\n",
    "plt.xticks(rotation=45)\n",
    "plt.tight_layout()\n",
    "\n",
    "# Save the plot\n",
    "plt.savefig('sales_chart.png')\n",
    "plt.show()\n",
    "\n",
    "# Close the database connection\n",
    "conn.close()"
   ]
  }
 ],
 "metadata": {
  "kernelspec": {
   "display_name": "Python 3",
   "language": "python",
   "name": "python3"
  },
  "language_info": {
   "codemirror_mode": {
    "name": "ipython",
    "version": 3
   },
   "file_extension": ".py",
   "mimetype": "text/x-python",
   "name": "python",
   "nbconvert_exporter": "python",
   "pygments_lexer": "ipython3",
   "version": "3.12.0"
  }
 },
 "nbformat": 4,
 "nbformat_minor": 5
}
